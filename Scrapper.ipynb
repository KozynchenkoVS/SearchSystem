{
 "cells": [
  {
   "cell_type": "markdown",
   "metadata": {},
   "source": [
    "# Imports"
   ]
  },
  {
   "cell_type": "code",
   "execution_count": null,
   "metadata": {},
   "outputs": [],
   "source": [
    "import requests\n",
    "from bs4 import BeautifulSoup\n",
    "import csv"
   ]
  },
  {
   "cell_type": "markdown",
   "metadata": {},
   "source": [
    "# Defining variable + getting hrefs"
   ]
  },
  {
   "cell_type": "code",
   "execution_count": null,
   "metadata": {},
   "outputs": [],
   "source": [
    "# List for links (href <a>)\n",
    "links = []\n",
    "# List for text of <a>\n",
    "text = []\n",
    "text_of_pages = []\n",
    "#List of Pages from \"All Pages\"\n",
    "list_of_pages = [\"https://naruto.fandom.com/ru/wiki/%D0%A1%D0%BB%D1%83%D0%B6%D0%B5%D0%B1%D0%BD%D0%B0%D1%8F:%D0%92%D1%81%D0%B5_%D1%81%D1%82%D1%80%D0%B0%D0%BD%D0%B8%D1%86%D1%8B?from=&to=&namespace=0\"\n",
    ",\"https://naruto.fandom.com/ru/wiki/%D0%A1%D0%BB%D1%83%D0%B6%D0%B5%D0%B1%D0%BD%D0%B0%D1%8F:%D0%92%D1%81%D0%B5_%D1%81%D1%82%D1%80%D0%B0%D0%BD%D0%B8%D1%86%D1%8B?from=%D0%91%D0%B0%D0%BD%D0%B0%D0%BD%D0%BE%D0%B2%D1%8B%D0%B9+%D0%92%D0%B5%D0%B5%D1%80%3A+%D0%A1%D0%BF%D0%B8%D1%80%D0%B0%D0%BB%D1%8C+%D0%9E%D0%B3%D0%BD%D1%8F\"\n",
    " ,\"https://naruto.fandom.com/ru/wiki/%D0%A1%D0%BB%D1%83%D0%B6%D0%B5%D0%B1%D0%BD%D0%B0%D1%8F:%D0%92%D1%81%D0%B5_%D1%81%D1%82%D1%80%D0%B0%D0%BD%D0%B8%D1%86%D1%8B?from=%D0%92%D0%BE%D0%B7%D1%80%D0%BE%D0%B6%D0%B4%D0%B5%D0%BD%D0%B8%D0%B5+%D0%A8%D0%B0%D1%80%D0%B8%D0%BD%D0%B3%D0%B0%D0%BD%D0%B0%21%21\"\n",
    " ,\"https://naruto.fandom.com/ru/wiki/%D0%A1%D0%BB%D1%83%D0%B6%D0%B5%D0%B1%D0%BD%D0%B0%D1%8F:%D0%92%D1%81%D0%B5_%D1%81%D1%82%D1%80%D0%B0%D0%BD%D0%B8%D1%86%D1%8B?from=%D0%93%D1%80%D1%8F%D0%B4%D1%91%D1%82+%D0%91%D0%B8%D1%82%D0%B2%D0%B0%3A+%D0%9D%D0%B0%D1%80%D1%83%D1%82%D0%BE+%D0%9F%D1%80%D0%BE%D1%82%D0%B8%D0%B2+%D0%A1%D0%B0%D1%81%D0%BA%D0%B5\"\n",
    " ,\"https://naruto.fandom.com/ru/wiki/%D0%A1%D0%BB%D1%83%D0%B6%D0%B5%D0%B1%D0%BD%D0%B0%D1%8F:%D0%92%D1%81%D0%B5_%D1%81%D1%82%D1%80%D0%B0%D0%BD%D0%B8%D1%86%D1%8B?from=%D0%94%D1%8D%D0%B9%D0%BC%D0%BE%D0%BD\",\n",
    "\"https://naruto.fandom.com/ru/wiki/%D0%A1%D0%BB%D1%83%D0%B6%D0%B5%D0%B1%D0%BD%D0%B0%D1%8F:%D0%92%D1%81%D0%B5_%D1%81%D1%82%D1%80%D0%B0%D0%BD%D0%B8%D1%86%D1%8B?from=%D0%98%D1%82%D0%B0%D1%87%D0%B8+%D0%B8+%D0%A1%D0%B0%D1%81%D0%BA%D0%B5%2C+%D0%91%D1%80%D0%B0%D1%82%D1%8C%D1%8F+%28%D0%A2%D0%BE%D0%BC%29\"\n",
    "\"https://naruto.fandom.com/ru/wiki/%D0%A1%D0%BB%D1%83%D0%B6%D0%B5%D0%B1%D0%BD%D0%B0%D1%8F:%D0%92%D1%81%D0%B5_%D1%81%D1%82%D1%80%D0%B0%D0%BD%D0%B8%D1%86%D1%8B?from=%D0%9A%D0%BE+%28%D0%90%D0%BD%D0%B1%D1%83%29\",\n",
    "\"https://naruto.fandom.com/ru/wiki/%D0%A1%D0%BB%D1%83%D0%B6%D0%B5%D0%B1%D0%BD%D0%B0%D1%8F:%D0%92%D1%81%D0%B5_%D1%81%D1%82%D1%80%D0%B0%D0%BD%D0%B8%D1%86%D1%8B?from=%D0%9B%D0%B5%D0%B3%D0%B5%D0%BD%D0%B4%D0%B0%D1%80%D0%BD%D1%8B%D0%B5+%D0%93%D0%BB%D1%83%D0%BF%D1%8B%D0%B5+%D0%91%D1%80%D0%B0%D1%82%D1%8C%D1%8F\",\n",
    "\"https://naruto.fandom.com/ru/wiki/%D0%A1%D0%BB%D1%83%D0%B6%D0%B5%D0%B1%D0%BD%D0%B0%D1%8F:%D0%92%D1%81%D0%B5_%D1%81%D1%82%D1%80%D0%B0%D0%BD%D0%B8%D1%86%D1%8B?from=%D0%A7%D1%83%D0%BA%D0%B8%D1%87%D0%B8\" ]\n",
    "for i in list_of_pages:\n",
    "    r = requests.get(url=i)\n",
    "    soup = BeautifulSoup(r.content)\n",
    "    ul = soup.select(\"ul.mw-allpages-chunk\")[0]\n",
    "    links = links + [a[\"href\"] for a in ul.select(\"a[href]\")]\n",
    "    text = text + [a.text for a in ul.select(\"a[title]\")]"
   ]
  },
  {
   "cell_type": "markdown",
   "metadata": {},
   "source": [
    "# Parsing Main content w/out Aside"
   ]
  },
  {
   "cell_type": "code",
   "execution_count": 4,
   "metadata": {},
   "outputs": [],
   "source": [
    "f = open('maincontentTemp.csv',encoding='UTF-8', newline='', mode='w')\n",
    "content_writer = csv.DictWriter(f, fieldnames=[\"link\", \"main-content\"])\n",
    "content_writer.writeheader()\n",
    "\n",
    "for i in links:\n",
    "    link = \"https://naruto.fandom.com\" + i\n",
    "    r = requests.get(url = link)\n",
    "    soup = BeautifulSoup(r.content)\n",
    "    ul = soup.select(\"div.page-content\")[0]\n",
    "    if (ul.find(\"aside\") != None):\n",
    "        ul.find(\"aside\").decompose()\n",
    "    string = \"\"\n",
    "    for p in ul.findAll('p', recursive=True):\n",
    "        if (len(p.text)!=0):\n",
    "            string+=p.text\n",
    "    content_writer.writerows([{'link' : link, \"main-content\" : string}])\n",
    "\n"
   ]
  },
  {
   "cell_type": "markdown",
   "metadata": {},
   "source": [
    "# Parsing Aside Content w/out main"
   ]
  },
  {
   "cell_type": "code",
   "execution_count": null,
   "metadata": {},
   "outputs": [],
   "source": [
    "f = open('asidecontentTemp.csv',encoding='UTF-8', newline='', mode='w')\n",
    "aside_writer = csv.DictWriter(f, fieldnames=[\"link\", \"aside-content\"])\n",
    "aside_writer.writeheader()\n",
    "for i in links:\n",
    "    link = \"https://naruto.fandom.com\" + i\n",
    "    r = requests.get(url = link)\n",
    "    soup = BeautifulSoup(r.content)\n",
    "    ul = soup.select(\"div.page-content\")[0]\n",
    "    string = \"\"\n",
    "    if (ul.aside !=None):\n",
    "        for p in ul.aside.findAll('section', recursive=False):\n",
    "            # if (len(p.text)!=0):\n",
    "            string+=p.get_text(separator=' ', strip=True) + \" \"\n",
    "    aside_writer.writerows([{'link' : link, \"aside-content\" : string}])"
   ]
  }
 ],
 "metadata": {
  "kernelspec": {
   "display_name": "Python 3.9.7 64-bit (system)",
   "language": "python",
   "name": "python3"
  },
  "language_info": {
   "codemirror_mode": {
    "name": "ipython",
    "version": 3
   },
   "file_extension": ".py",
   "mimetype": "text/x-python",
   "name": "python",
   "nbconvert_exporter": "python",
   "pygments_lexer": "ipython3",
   "version": "3.9.7"
  },
  "orig_nbformat": 4,
  "vscode": {
   "interpreter": {
    "hash": "c8081ed89012abcd49c7e19f630b494956719821333c1d485dd70c9aacdb1ead"
   }
  }
 },
 "nbformat": 4,
 "nbformat_minor": 2
}
